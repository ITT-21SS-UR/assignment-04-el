{
 "cells": [
  {
   "cell_type": "markdown",
   "id": "auburn-diversity",
   "metadata": {},
   "source": [
    "# Pointing Experiment"
   ]
  },
  {
   "cell_type": "markdown",
   "id": "failing-object",
   "metadata": {},
   "source": [
    "### Introduction\n",
    "In this study, a novel technique for mouse interaction will be evaluated. We conducted an experiment where participants had to complete pointing tasks under two different conditions: once with support of our pointing technique, and once again without any additional support.\n",
    "\n",
    "### Independent Variable: \n",
    "            - target shape (circle, square)\n",
    "            - support technique (on, off)\n",
    "     \n",
    "### Dependent Variable:\n",
    "            - accuracy (by number of clicks)\n",
    "            - time per task\n",
    "         \n",
    "### Hypotheses:\n",
    "            1) Target shape causes a difference in time per task\n",
    "\n",
    "            2) Use of the support technique causes a difference in time per task\n",
    "\n",
    "            3) Target shape causes a difference in accuracy\n",
    "\n",
    "            4) Use of the support technique causes a difference accuracy\n",
    "\n",
    "### Participants:\n",
    "The experiment was performed on two subjects. Due to the pandemic situation, it is not that easy to recruit study participants. Since it is necessary to run a Python program on a Linux machine for the trial, we decided to test ourselves.\n",
    "As a result, one man and one woman were tested each. The average age of the test subjects is 28 years. Both test subjects are master students of media informatics at the University of Regensburg.\n",
    "Due to technical reasons, both test subjects performed the experiment three times each.\n",
    "\n",
    "### Novel technique:\n",
    "In order to improve the correct clicking with the mouse on a predefined object, the mouse is attracted to the object by a kind of magnetic attraction: \n",
    "The pointing technique takes the current position of the user's cursor and looks for the nearest valid target. Should the cursor be within a certain distance to the target, it will be pulled closer towards it."
   ]
  },
  {
   "cell_type": "code",
   "execution_count": 1,
   "id": "informational-present",
   "metadata": {},
   "outputs": [],
   "source": [
    "# imports\n",
    "import pandas as pd # data mangling\n",
    "import matplotlib\n",
    "from matplotlib import pyplot as plt\n",
    "import scipy\n",
    "import numpy as np\n",
    "import seaborn as sns"
   ]
  },
  {
   "cell_type": "code",
   "execution_count": 20,
   "id": "sporting-count",
   "metadata": {},
   "outputs": [],
   "source": [
    "df_pointing_exp = pd.read_csv('experiment_concat.csv')"
   ]
  },
  {
   "cell_type": "code",
   "execution_count": 21,
   "id": "becoming-bachelor",
   "metadata": {},
   "outputs": [
    {
     "data": {
      "text/html": [
       "<div>\n",
       "<style scoped>\n",
       "    .dataframe tbody tr th:only-of-type {\n",
       "        vertical-align: middle;\n",
       "    }\n",
       "\n",
       "    .dataframe tbody tr th {\n",
       "        vertical-align: top;\n",
       "    }\n",
       "\n",
       "    .dataframe thead th {\n",
       "        text-align: right;\n",
       "    }\n",
       "</style>\n",
       "<table border=\"1\" class=\"dataframe\">\n",
       "  <thead>\n",
       "    <tr style=\"text-align: right;\">\n",
       "      <th></th>\n",
       "      <th>user_id</th>\n",
       "      <th>timestamp</th>\n",
       "      <th>condition</th>\n",
       "      <th>num_clicks</th>\n",
       "      <th>time_taken_in_ms</th>\n",
       "      <th>click_x</th>\n",
       "      <th>click_y</th>\n",
       "      <th>target_width</th>\n",
       "      <th>num_shapes</th>\n",
       "      <th>screen_width</th>\n",
       "      <th>screen_height</th>\n",
       "      <th>helper_enabled</th>\n",
       "    </tr>\n",
       "  </thead>\n",
       "  <tbody>\n",
       "    <tr>\n",
       "      <th>0</th>\n",
       "      <td>1</td>\n",
       "      <td>2021-05-10 19:24:46.127606</td>\n",
       "      <td>Circle</td>\n",
       "      <td>1</td>\n",
       "      <td>570</td>\n",
       "      <td>1136</td>\n",
       "      <td>311</td>\n",
       "      <td>40</td>\n",
       "      <td>199</td>\n",
       "      <td>1280</td>\n",
       "      <td>720</td>\n",
       "      <td>True</td>\n",
       "    </tr>\n",
       "    <tr>\n",
       "      <th>1</th>\n",
       "      <td>1</td>\n",
       "      <td>2021-05-10 19:24:46.906867</td>\n",
       "      <td>Circle</td>\n",
       "      <td>1</td>\n",
       "      <td>771</td>\n",
       "      <td>1012</td>\n",
       "      <td>397</td>\n",
       "      <td>40</td>\n",
       "      <td>208</td>\n",
       "      <td>1280</td>\n",
       "      <td>720</td>\n",
       "      <td>True</td>\n",
       "    </tr>\n",
       "    <tr>\n",
       "      <th>2</th>\n",
       "      <td>1</td>\n",
       "      <td>2021-05-10 19:24:47.702941</td>\n",
       "      <td>Circle</td>\n",
       "      <td>1</td>\n",
       "      <td>788</td>\n",
       "      <td>589</td>\n",
       "      <td>214</td>\n",
       "      <td>40</td>\n",
       "      <td>205</td>\n",
       "      <td>1280</td>\n",
       "      <td>720</td>\n",
       "      <td>True</td>\n",
       "    </tr>\n",
       "    <tr>\n",
       "      <th>3</th>\n",
       "      <td>1</td>\n",
       "      <td>2021-05-10 19:24:48.429501</td>\n",
       "      <td>Circle</td>\n",
       "      <td>1</td>\n",
       "      <td>719</td>\n",
       "      <td>199</td>\n",
       "      <td>454</td>\n",
       "      <td>40</td>\n",
       "      <td>207</td>\n",
       "      <td>1280</td>\n",
       "      <td>720</td>\n",
       "      <td>True</td>\n",
       "    </tr>\n",
       "    <tr>\n",
       "      <th>4</th>\n",
       "      <td>1</td>\n",
       "      <td>2021-05-10 19:24:49.175932</td>\n",
       "      <td>Circle</td>\n",
       "      <td>1</td>\n",
       "      <td>624</td>\n",
       "      <td>427</td>\n",
       "      <td>481</td>\n",
       "      <td>40</td>\n",
       "      <td>205</td>\n",
       "      <td>1280</td>\n",
       "      <td>720</td>\n",
       "      <td>True</td>\n",
       "    </tr>\n",
       "    <tr>\n",
       "      <th>...</th>\n",
       "      <td>...</td>\n",
       "      <td>...</td>\n",
       "      <td>...</td>\n",
       "      <td>...</td>\n",
       "      <td>...</td>\n",
       "      <td>...</td>\n",
       "      <td>...</td>\n",
       "      <td>...</td>\n",
       "      <td>...</td>\n",
       "      <td>...</td>\n",
       "      <td>...</td>\n",
       "      <td>...</td>\n",
       "    </tr>\n",
       "    <tr>\n",
       "      <th>75</th>\n",
       "      <td>2</td>\n",
       "      <td>2021-05-10 19:25:06.319768</td>\n",
       "      <td>Circle</td>\n",
       "      <td>1</td>\n",
       "      <td>1514</td>\n",
       "      <td>655</td>\n",
       "      <td>340</td>\n",
       "      <td>40</td>\n",
       "      <td>199</td>\n",
       "      <td>1280</td>\n",
       "      <td>720</td>\n",
       "      <td>False</td>\n",
       "    </tr>\n",
       "    <tr>\n",
       "      <th>76</th>\n",
       "      <td>2</td>\n",
       "      <td>2021-05-10 19:25:08.285372</td>\n",
       "      <td>Circle</td>\n",
       "      <td>1</td>\n",
       "      <td>1571</td>\n",
       "      <td>813</td>\n",
       "      <td>615</td>\n",
       "      <td>40</td>\n",
       "      <td>210</td>\n",
       "      <td>1280</td>\n",
       "      <td>720</td>\n",
       "      <td>False</td>\n",
       "    </tr>\n",
       "    <tr>\n",
       "      <th>77</th>\n",
       "      <td>2</td>\n",
       "      <td>2021-05-10 19:25:10.411675</td>\n",
       "      <td>Circle</td>\n",
       "      <td>1</td>\n",
       "      <td>1721</td>\n",
       "      <td>916</td>\n",
       "      <td>573</td>\n",
       "      <td>40</td>\n",
       "      <td>197</td>\n",
       "      <td>1280</td>\n",
       "      <td>720</td>\n",
       "      <td>False</td>\n",
       "    </tr>\n",
       "    <tr>\n",
       "      <th>78</th>\n",
       "      <td>2</td>\n",
       "      <td>2021-05-10 19:25:12.385302</td>\n",
       "      <td>Circle</td>\n",
       "      <td>1</td>\n",
       "      <td>1635</td>\n",
       "      <td>550</td>\n",
       "      <td>356</td>\n",
       "      <td>40</td>\n",
       "      <td>206</td>\n",
       "      <td>1280</td>\n",
       "      <td>720</td>\n",
       "      <td>False</td>\n",
       "    </tr>\n",
       "    <tr>\n",
       "      <th>79</th>\n",
       "      <td>2</td>\n",
       "      <td>2021-05-10 19:25:14.145502</td>\n",
       "      <td>Circle</td>\n",
       "      <td>1</td>\n",
       "      <td>1511</td>\n",
       "      <td>722</td>\n",
       "      <td>251</td>\n",
       "      <td>40</td>\n",
       "      <td>207</td>\n",
       "      <td>1280</td>\n",
       "      <td>720</td>\n",
       "      <td>False</td>\n",
       "    </tr>\n",
       "  </tbody>\n",
       "</table>\n",
       "<p>80 rows × 12 columns</p>\n",
       "</div>"
      ],
      "text/plain": [
       "    user_id                   timestamp condition  num_clicks  \\\n",
       "0         1  2021-05-10 19:24:46.127606    Circle           1   \n",
       "1         1  2021-05-10 19:24:46.906867    Circle           1   \n",
       "2         1  2021-05-10 19:24:47.702941    Circle           1   \n",
       "3         1  2021-05-10 19:24:48.429501    Circle           1   \n",
       "4         1  2021-05-10 19:24:49.175932    Circle           1   \n",
       "..      ...                         ...       ...         ...   \n",
       "75        2  2021-05-10 19:25:06.319768    Circle           1   \n",
       "76        2  2021-05-10 19:25:08.285372    Circle           1   \n",
       "77        2  2021-05-10 19:25:10.411675    Circle           1   \n",
       "78        2  2021-05-10 19:25:12.385302    Circle           1   \n",
       "79        2  2021-05-10 19:25:14.145502    Circle           1   \n",
       "\n",
       "    time_taken_in_ms  click_x  click_y  target_width  num_shapes  \\\n",
       "0                570     1136      311            40         199   \n",
       "1                771     1012      397            40         208   \n",
       "2                788      589      214            40         205   \n",
       "3                719      199      454            40         207   \n",
       "4                624      427      481            40         205   \n",
       "..               ...      ...      ...           ...         ...   \n",
       "75              1514      655      340            40         199   \n",
       "76              1571      813      615            40         210   \n",
       "77              1721      916      573            40         197   \n",
       "78              1635      550      356            40         206   \n",
       "79              1511      722      251            40         207   \n",
       "\n",
       "    screen_width  screen_height  helper_enabled  \n",
       "0           1280            720            True  \n",
       "1           1280            720            True  \n",
       "2           1280            720            True  \n",
       "3           1280            720            True  \n",
       "4           1280            720            True  \n",
       "..           ...            ...             ...  \n",
       "75          1280            720           False  \n",
       "76          1280            720           False  \n",
       "77          1280            720           False  \n",
       "78          1280            720           False  \n",
       "79          1280            720           False  \n",
       "\n",
       "[80 rows x 12 columns]"
      ]
     },
     "metadata": {},
     "output_type": "display_data"
    }
   ],
   "source": [
    "display (df_pointing_exp)"
   ]
  },
  {
   "cell_type": "markdown",
   "id": "confident-marker",
   "metadata": {},
   "source": [
    "## Basic Findings - independend variable support technique"
   ]
  },
  {
   "cell_type": "code",
   "execution_count": 22,
   "id": "tutorial-leather",
   "metadata": {},
   "outputs": [
    {
     "name": "stdout",
     "output_type": "stream",
     "text": [
      "All values are time in ms\n",
      "Mean standard: 1549.05\n",
      "Mean helper: 1169.925\n",
      "STD standard: 576.8969123682324\n",
      "STD helper: 426.9823408233647\n",
      "Max standard: 4080\n",
      "Max helper: 1900\n",
      "Min standard: 869\n",
      "Min helper: 570\n"
     ]
    }
   ],
   "source": [
    "time_standard = df_pointing_exp[(df_pointing_exp['helper_enabled'] == False)]['time_taken_in_ms']\n",
    "time_helper = df_pointing_exp[(df_pointing_exp['helper_enabled'] == True)]['time_taken_in_ms']\n",
    "\n",
    "\n",
    "print(\"All values are time in ms\")\n",
    "\n",
    "mean_standard = np.mean(time_standard)\n",
    "mean_helper = np.mean(time_helper)\n",
    "print(\"Mean standard: \" + str(mean_standard))\n",
    "print(\"Mean helper: \" + str(mean_helper))\n",
    "\n",
    "std_standard = np.std(time_standard)\n",
    "std_helper = np.std(time_helper)\n",
    "\n",
    "print(\"STD standard: \" + str(std_standard))\n",
    "print(\"STD helper: \" + str(std_helper))\n",
    "\n",
    "max_standard = np.max(time_standard)\n",
    "max_helper = np.max(time_helper)\n",
    "\n",
    "print(\"Max standard: \" + str(max_standard))\n",
    "print(\"Max helper: \" + str(max_helper))\n",
    "\n",
    "min_standard = np.min(time_standard)\n",
    "min_helper = np.min(time_helper)\n",
    "\n",
    "print(\"Min standard: \" + str(min_standard))\n",
    "print(\"Min helper: \" + str(min_helper))"
   ]
  },
  {
   "cell_type": "markdown",
   "id": "hairy-triangle",
   "metadata": {},
   "source": [
    "No analysis of the accuracy - 100% accuracy for all test cases and participants."
   ]
  },
  {
   "cell_type": "markdown",
   "id": "automated-raleigh",
   "metadata": {},
   "source": [
    "## Basic Findings - independend variable target shape "
   ]
  },
  {
   "cell_type": "code",
   "execution_count": 23,
   "id": "illegal-outside",
   "metadata": {},
   "outputs": [
    {
     "name": "stdout",
     "output_type": "stream",
     "text": [
      "All values are time in ms\n",
      "Mean circle: 1353.625\n",
      "Mean square: 1365.35\n",
      "STD circle: 456.6945744970045\n",
      "STD square: 615.1042005221555\n",
      "Max circle: 2549\n",
      "Max square: 4080\n",
      "Min circle: 570\n",
      "Min square: 577\n"
     ]
    }
   ],
   "source": [
    "time_circle = df_pointing_exp[(df_pointing_exp['condition'] == 'Circle')]['time_taken_in_ms']\n",
    "time_square = df_pointing_exp[(df_pointing_exp['condition'] == 'Square')]['time_taken_in_ms']\n",
    "\n",
    "\n",
    "print(\"All values are time in ms\")\n",
    "\n",
    "mean_circle = np.mean(time_circle)\n",
    "mean_square = np.mean(time_square)\n",
    "print(\"Mean circle: \" + str(mean_circle))\n",
    "print(\"Mean square: \" + str(mean_square))\n",
    "\n",
    "std_circle = np.std(time_circle)\n",
    "std_square = np.std(time_square)\n",
    "\n",
    "print(\"STD circle: \" + str(std_circle))\n",
    "print(\"STD square: \" + str(std_square))\n",
    "\n",
    "max_circle = np.max(time_circle)\n",
    "max_square = np.max(time_square)\n",
    "\n",
    "print(\"Max circle: \" + str(max_circle))\n",
    "print(\"Max square: \" + str(max_square))\n",
    "\n",
    "min_circle = np.min(time_circle)\n",
    "min_square = np.min(time_square)\n",
    "\n",
    "print(\"Min circle: \" + str(min_circle))\n",
    "print(\"Min square: \" + str(min_square))"
   ]
  },
  {
   "cell_type": "markdown",
   "id": "vietnamese-blame",
   "metadata": {},
   "source": [
    "## Boxplots - support technique"
   ]
  },
  {
   "cell_type": "code",
   "execution_count": 24,
   "id": "catholic-comedy",
   "metadata": {},
   "outputs": [
    {
     "data": {
      "image/png": "[encoded data removed]",
      "text/plain": [
       "<Figure size 432x288 with 1 Axes>"
      ]
     },
     "metadata": {
      "needs_background": "light"
     },
     "output_type": "display_data"
    }
   ],
   "source": [
    "df_boxplot_st = df_pointing_exp[['helper_enabled', 'time_taken_in_ms']]\n",
    "plot = sns.boxplot(\n",
    "    data = df_boxplot_st,\n",
    "    x = \"helper_enabled\",\n",
    "    y = \"time_taken_in_ms\"\n",
    ")\n",
    "plot.set(xlabel = 'Helper enabled', ylabel = \"Time taken in ms\")\n",
    "\n",
    "plt.show()"
   ]
  },
  {
   "cell_type": "markdown",
   "id": "juvenile-eugene",
   "metadata": {},
   "source": [
    "## T-Test - support technique"
   ]
  },
  {
   "cell_type": "code",
   "execution_count": 25,
   "id": "indie-index",
   "metadata": {},
   "outputs": [
    {
     "data": {
      "text/plain": [
       "Ttest_indResult(statistic=3.2988217443346532, pvalue=0.0014645582349780888)"
      ]
     },
     "execution_count": 25,
     "metadata": {},
     "output_type": "execute_result"
    }
   ],
   "source": [
    "scipy.stats.ttest_ind(time_standard, time_helper)"
   ]
  },
  {
   "cell_type": "markdown",
   "id": "twelve-greenhouse",
   "metadata": {},
   "source": [
    "## Boxplot - target shape"
   ]
  },
  {
   "cell_type": "code",
   "execution_count": 26,
   "id": "bibliographic-evidence",
   "metadata": {},
   "outputs": [
    {
     "data": {
      "image/png": "[encoded data removed]",
      "text/plain": [
       "<Figure size 432x288 with 1 Axes>"
      ]
     },
     "metadata": {
      "needs_background": "light"
     },
     "output_type": "display_data"
    }
   ],
   "source": [
    "df_boxplot_ts = df_pointing_exp[['condition', 'time_taken_in_ms']]\n",
    "plot = sns.boxplot(\n",
    "    data = df_boxplot_ts,\n",
    "    x = \"condition\",\n",
    "    y = \"time_taken_in_ms\"\n",
    ")\n",
    "plot.set(xlabel = 'Target shape', ylabel = \"Time taken in ms\")\n",
    "\n",
    "plt.show()"
   ]
  },
  {
   "cell_type": "markdown",
   "id": "minimal-fabric",
   "metadata": {},
   "source": [
    "## T-Test - target shape"
   ]
  },
  {
   "cell_type": "code",
   "execution_count": 27,
   "id": "agreed-collapse",
   "metadata": {},
   "outputs": [
    {
     "data": {
      "text/plain": [
       "Ttest_indResult(statistic=-0.0955772540790127, pvalue=0.9241014595431047)"
      ]
     },
     "execution_count": 27,
     "metadata": {},
     "output_type": "execute_result"
    }
   ],
   "source": [
    "scipy.stats.ttest_ind(time_circle, time_square)"
   ]
  },
  {
   "cell_type": "markdown",
   "id": "harmful-influence",
   "metadata": {},
   "source": [
    "## Boxplot - participants"
   ]
  },
  {
   "cell_type": "code",
   "execution_count": 28,
   "id": "simple-designation",
   "metadata": {},
   "outputs": [
    {
     "data": {
      "image/png": "[encoded data removed]",
      "text/plain": [
       "<Figure size 432x288 with 1 Axes>"
      ]
     },
     "metadata": {
      "needs_background": "light"
     },
     "output_type": "display_data"
    }
   ],
   "source": [
    "df_boxplot_p = df_pointing_exp[['user_id', 'time_taken_in_ms']]\n",
    "plot = sns.boxplot(\n",
    "    data = df_boxplot_p,\n",
    "    x = \"user_id\",\n",
    "    y = \"time_taken_in_ms\"\n",
    ")\n",
    "plot.set(xlabel = 'User ID', ylabel = \"Time taken in ms\")\n",
    "\n",
    "plt.show()"
   ]
  },
  {
   "cell_type": "markdown",
   "id": "detailed-phenomenon",
   "metadata": {},
   "source": [
    "## Discussion"
   ]
  },
  {
   "cell_type": "markdown",
   "id": "muslim-section",
   "metadata": {},
   "source": [
    "The experiment was conducted on two different systems. Unfortunately, participant 2 had display problems during the experiment, which is why the average time for this participant was significantly higher than for participant (see \"Boxplot - participants\"). However, since this error occurred constantly in all runs, it is negligible for the following evaluations.\n",
    "\n",
    "Hypotheses three and four on the accuracy of the pointing can be rejected, since the accuracies were 100 percent in all cases.\n",
    "\n",
    "Hypothesis 1 can also be rejected. No significant difference could be found between circles (M = 1353.63, SD = 456.70, n = 40) and squares (M = 1365.35, SD = 615.10, n = 40), t = -0.10, p = 0.92.\n",
    " \n",
    "Hypothesis 2, on the other hand, can be accepted, since a highly significant difference in time was found between performing the experiment with (M = 1169.93, SD = 426.98, n = 40) and without support (M = 1549.05, SD = 576.90, n =40), t = 3.30, p < 0.01. "
   ]
  },
  {
   "cell_type": "code",
   "execution_count": null,
   "id": "prerequisite-vatican",
   "metadata": {},
   "outputs": [],
   "source": []
  }
 ],
 "metadata": {
  "kernelspec": {
   "display_name": "Python 3",
   "language": "python",
   "name": "python3"
  },
  "language_info": {
   "codemirror_mode": {
    "name": "ipython",
    "version": 3
   },
   "file_extension": ".py",
   "mimetype": "text/x-python",
   "name": "python",
   "nbconvert_exporter": "python",
   "pygments_lexer": "ipython3",
   "version": "3.9.2"
  }
 },
 "nbformat": 4,
 "nbformat_minor": 5
}
